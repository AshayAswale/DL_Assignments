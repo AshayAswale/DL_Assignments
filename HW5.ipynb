{
  "nbformat": 4,
  "nbformat_minor": 0,
  "metadata": {
    "colab": {
      "name": "HW5.ipynb",
      "provenance": []
    },
    "kernelspec": {
      "name": "python3",
      "display_name": "Python 3"
    }
  },
  "cells": [
    {
      "cell_type": "code",
      "metadata": {
        "colab": {
          "base_uri": "https://localhost:8080/"
        },
        "id": "s-beGuiHz3u0",
        "outputId": "3ef9473f-7eeb-49ee-d156-02f94b280cab"
      },
      "source": [
        "# Note in Colab you can type \"pip install\" directly in the notebook\n",
        "!pip install -q -U tensorflow>=1.8.0\n",
        "import tensorflow as tf\n",
        "import numpy as np\n",
        "import matplotlib.pyplot as plt# Load the fashion-mnist pre-shuffled train data and test data\n",
        "(x_train, y_train), (x_test, y_test) = tf.keras.datasets.fashion_mnist.load_data()\n",
        "print(\"x_train shape:\", x_train.shape, \"y_train shape:\", y_train.shape)"
      ],
      "execution_count": 58,
      "outputs": [
        {
          "output_type": "stream",
          "text": [
            "x_train shape: (60000, 28, 28) y_train shape: (60000,)\n"
          ],
          "name": "stdout"
        }
      ]
    },
    {
      "cell_type": "code",
      "metadata": {
        "colab": {
          "base_uri": "https://localhost:8080/",
          "height": 350
        },
        "id": "SitS37ptz-IN",
        "outputId": "4d4f7bd6-9759-452b-90c1-954d4efe011b"
      },
      "source": [
        "# Print training set shape - note there are 60,000 training data of image size of 28x28, 60,000 train labels)\n",
        "print(\"x_train shape:\", x_train.shape, \"y_train shape:\", y_train.shape)\n",
        "\n",
        "# Print the number of training and test datasets\n",
        "print(x_train.shape[0], 'train set')\n",
        "print(x_test.shape[0], 'test set')\n",
        "\n",
        "# Define the text labels\n",
        "fashion_mnist_labels = [\"T-shirt/top\",  # index 0\n",
        "                        \"Trouser\",      # index 1\n",
        "                        \"Pullover\",     # index 2 \n",
        "                        \"Dress\",        # index 3 \n",
        "                        \"Coat\",         # index 4\n",
        "                        \"Sandal\",       # index 5\n",
        "                        \"Shirt\",        # index 6 \n",
        "                        \"Sneaker\",      # index 7 \n",
        "                        \"Bag\",          # index 8 \n",
        "                        \"Ankle boot\"]   # index 9\n",
        "\n",
        "# Image index, you can pick any number between 0 and 59,999\n",
        "img_index = 5\n",
        "# y_train contains the lables, ranging from 0 to 9\n",
        "label_index = y_train[img_index]\n",
        "# Print the label, for example 2 Pullover\n",
        "print (\"y = \" + str(label_index) + \" \" +(fashion_mnist_labels[label_index]))\n",
        "# # Show one of the images from the training dataset\n",
        "plt.imshow(x_train[img_index])"
      ],
      "execution_count": 59,
      "outputs": [
        {
          "output_type": "stream",
          "text": [
            "x_train shape: (60000, 28, 28) y_train shape: (60000,)\n",
            "60000 train set\n",
            "10000 test set\n",
            "y = 2 Pullover\n"
          ],
          "name": "stdout"
        },
        {
          "output_type": "execute_result",
          "data": {
            "text/plain": [
              "<matplotlib.image.AxesImage at 0x7fdc14126450>"
            ]
          },
          "metadata": {
            "tags": []
          },
          "execution_count": 59
        },
        {
          "output_type": "display_data",
          "data": {
            "image/png": "[encoded data removed]",
            "text/plain": [
              "<Figure size 432x288 with 1 Axes>"
            ]
          },
          "metadata": {
            "tags": [],
            "needs_background": "light"
          }
        }
      ]
    },
    {
      "cell_type": "code",
      "metadata": {
        "colab": {
          "base_uri": "https://localhost:8080/"
        },
        "id": "BpAz2TQU0CVW",
        "outputId": "898bf76a-e95b-4bf5-de80-47e5f67cbb77"
      },
      "source": [
        "x_train = x_train.astype('float32') / 255\n",
        "x_test = x_test.astype('float32') / 255\n",
        "print(\"Number of train data - \" + str(len(x_train)))\n",
        "print(\"Number of test data - \" + str(len(x_test)))"
      ],
      "execution_count": 3,
      "outputs": [
        {
          "output_type": "stream",
          "text": [
            "Number of train data - 60000\n",
            "Number of test data - 10000\n"
          ],
          "name": "stdout"
        }
      ]
    },
    {
      "cell_type": "code",
      "metadata": {
        "colab": {
          "base_uri": "https://localhost:8080/"
        },
        "id": "NGHNBEFq0Fl_",
        "outputId": "4761f779-4b87-4ee0-8a38-136ce5433be2"
      },
      "source": [
        "# Further break training data into train / validation sets (# put 5000 into validation set and keep remaining 55,000 for train)\n",
        "(x_train, x_valid) = x_train[5000:], x_train[:5000] \n",
        "(y_train, y_valid) = y_train[5000:], y_train[:5000]\n",
        "\n",
        "# Reshape input data from (28, 28) to (28, 28, 1)\n",
        "w, h = 28, 28\n",
        "x_train = x_train.reshape(x_train.shape[0], w, h, 1)\n",
        "x_valid = x_valid.reshape(x_valid.shape[0], w, h, 1)\n",
        "x_test = x_test.reshape(x_test.shape[0], w, h, 1)\n",
        "\n",
        "# One-hot encode the labels\n",
        "y_train = tf.keras.utils.to_categorical(y_train, 10)\n",
        "y_valid = tf.keras.utils.to_categorical(y_valid, 10)\n",
        "y_test = tf.keras.utils.to_categorical(y_test, 10)\n",
        "\n",
        "# Print training set shape\n",
        "print(\"x_train shape:\", x_train.shape, \"y_train shape:\", y_train.shape)\n",
        "\n",
        "# Print the number of training, validation, and test datasets\n",
        "print(x_train.shape[0], 'train set')\n",
        "print(x_valid.shape[0], 'validation set')\n",
        "print(x_test.shape[0], 'test set')"
      ],
      "execution_count": 4,
      "outputs": [
        {
          "output_type": "stream",
          "text": [
            "x_train shape: (55000, 28, 28, 1) y_train shape: (55000, 10)\n",
            "55000 train set\n",
            "5000 validation set\n",
            "10000 test set\n"
          ],
          "name": "stdout"
        }
      ]
    },
    {
      "cell_type": "code",
      "metadata": {
        "colab": {
          "base_uri": "https://localhost:8080/"
        },
        "id": "o1Bw56jL0IS9",
        "outputId": "97eeb4bc-c261-4951-972c-e9d2b0d7ef59"
      },
      "source": [
        "model = tf.keras.Sequential()\n",
        "\n",
        "# # Must define the input shape in the first layer of the neural network\n",
        "# model.add(tf.keras.layers.Conv2D(filters=64, kernel_size=2, padding='same', activation='relu', input_shape=(28,28,1))) \n",
        "# model.add(tf.keras.layers.MaxPooling2D(pool_size=2))\n",
        "# model.add(tf.keras.layers.Dropout(0.3))\n",
        "\n",
        "# model.add(tf.keras.layers.Conv2D(filters=32, kernel_size=2, padding='same', activation='relu'))\n",
        "# model.add(tf.keras.layers.MaxPooling2D(pool_size=2))\n",
        "# model.add(tf.keras.layers.Dropout(0.3))\n",
        "\n",
        "# model.add(tf.keras.layers.Flatten())\n",
        "# model.add(tf.keras.layers.Dense(256, activation='relu'))\n",
        "# model.add(tf.keras.layers.Dropout(0.5))\n",
        "# model.add(tf.keras.layers.Dense(10, activation='softmax'))\n",
        "\n",
        "# Convolution layer with 64 filters, each 3x3, stride of 1 (i.e., apply the filter at all pixel locations),\n",
        "# no padding.\n",
        "# • Max pool with a pooling width of 2x2, stride of 2, no padding.\n",
        "# • ReLU.\n",
        "# • Flatten the 64 feature maps into one long vector.\n",
        "# • Fully-connected layer to map into a 1024-dimensional vector.\n",
        "# • ReLU.\n",
        "# • Fully-connected layer to map into a 10-dimensional vector.\n",
        "# • Softmax.\n",
        "\n",
        "model.add(tf.keras.layers.Conv2D(filters=64, kernel_size=3, padding='valid', input_shape=(28, 28, 1)))\n",
        "model.add(tf.keras.layers.MaxPooling2D(pool_size=(2, 2), strides=2, padding='valid'))\n",
        "model.add(tf.keras.layers.Activation(activation='relu'))\n",
        "model.add(tf.keras.layers.Flatten())\n",
        "model.add(tf.keras.layers.Dense(1024, activation='relu'))\n",
        "model.add(tf.keras.layers.Dense(10, activation='softmax'))\n",
        "\n",
        "# Take a look at the model summary\n",
        "model.summary()"
      ],
      "execution_count": 5,
      "outputs": [
        {
          "output_type": "stream",
          "text": [
            "Model: \"sequential\"\n",
            "_________________________________________________________________\n",
            "Layer (type)                 Output Shape              Param #   \n",
            "=================================================================\n",
            "conv2d (Conv2D)              (None, 26, 26, 64)        640       \n",
            "_________________________________________________________________\n",
            "max_pooling2d (MaxPooling2D) (None, 13, 13, 64)        0         \n",
            "_________________________________________________________________\n",
            "activation (Activation)      (None, 13, 13, 64)        0         \n",
            "_________________________________________________________________\n",
            "flatten (Flatten)            (None, 10816)             0         \n",
            "_________________________________________________________________\n",
            "dense (Dense)                (None, 1024)              11076608  \n",
            "_________________________________________________________________\n",
            "dense_1 (Dense)              (None, 10)                10250     \n",
            "=================================================================\n",
            "Total params: 11,087,498\n",
            "Trainable params: 11,087,498\n",
            "Non-trainable params: 0\n",
            "_________________________________________________________________\n"
          ],
          "name": "stdout"
        }
      ]
    },
    {
      "cell_type": "code",
      "metadata": {
        "id": "QvXvjc6j0Lej"
      },
      "source": [
        "model.compile(loss='categorical_crossentropy', optimizer='adam', metrics=['accuracy'])"
      ],
      "execution_count": 6,
      "outputs": []
    },
    {
      "cell_type": "code",
      "metadata": {
        "colab": {
          "base_uri": "https://localhost:8080/"
        },
        "id": "yuCh1XHW0PMH",
        "outputId": "1cc43cbd-7993-456a-fa15-1a73dfdbd815"
      },
      "source": [
        "from keras.callbacks import ModelCheckpoint\n",
        "\n",
        "checkpointer = ModelCheckpoint(filepath='model.weights.best.hdf5', verbose = 1, save_best_only=True)\n",
        "model.fit(x_train,\n",
        "          y_train,\n",
        "          batch_size=32,\n",
        "          epochs=1,\n",
        "          validation_data=(x_valid, y_valid),\n",
        "          callbacks=[checkpointer])"
      ],
      "execution_count": 7,
      "outputs": [
        {
          "output_type": "stream",
          "text": [
            "1719/1719 [==============================] - 215s 125ms/step - loss: 0.4695 - accuracy: 0.8326 - val_loss: 0.2871 - val_accuracy: 0.8992\n",
            "\n",
            "Epoch 00001: val_loss improved from inf to 0.28712, saving model to model.weights.best.hdf5\n"
          ],
          "name": "stdout"
        },
        {
          "output_type": "execute_result",
          "data": {
            "text/plain": [
              "<tensorflow.python.keras.callbacks.History at 0x7fdc23b60ad0>"
            ]
          },
          "metadata": {
            "tags": []
          },
          "execution_count": 7
        }
      ]
    },
    {
      "cell_type": "code",
      "metadata": {
        "id": "K9ySkdy40Q_L"
      },
      "source": [
        "#Load the weights with the best validation accuracy.\n",
        "model.load_weights('model.weights.best.hdf5')"
      ],
      "execution_count": 10,
      "outputs": []
    },
    {
      "cell_type": "code",
      "metadata": {
        "id": "Eb5RQtAQ1NPj"
      },
      "source": [
        "import h5py\n",
        "f = h5py.File('model.weights.best.hdf5', 'r')"
      ],
      "execution_count": 11,
      "outputs": []
    },
    {
      "cell_type": "code",
      "metadata": {
        "colab": {
          "base_uri": "https://localhost:8080/"
        },
        "id": "XVDttz9B0gI-",
        "outputId": "6e0b66a3-ff2c-4266-b8a6-007e606ef0eb"
      },
      "source": [
        "base_items = list(f.items())\n",
        "print(base_items)"
      ],
      "execution_count": 12,
      "outputs": [
        {
          "output_type": "stream",
          "text": [
            "[('model_weights', <HDF5 group \"/model_weights\" (6 members)>), ('optimizer_weights', <HDF5 group \"/optimizer_weights\" (1 members)>)]\n"
          ],
          "name": "stdout"
        }
      ]
    },
    {
      "cell_type": "code",
      "metadata": {
        "colab": {
          "base_uri": "https://localhost:8080/"
        },
        "id": "EwVb6BaQ1JUJ",
        "outputId": "00a574aa-b947-43f8-cf10-e7d3fe4b983e"
      },
      "source": [
        "optimizer_weights = f.get('optimizer_weights')\n",
        "optimizer_weights_items = list(optimizer_weights.items())\n",
        "print(optimizer_weights_items)"
      ],
      "execution_count": 13,
      "outputs": [
        {
          "output_type": "stream",
          "text": [
            "[('Adam', <HDF5 group \"/optimizer_weights/Adam\" (4 members)>)]\n"
          ],
          "name": "stdout"
        }
      ]
    },
    {
      "cell_type": "code",
      "metadata": {
        "colab": {
          "base_uri": "https://localhost:8080/"
        },
        "id": "XPa5aUS91UZE",
        "outputId": "e7fd999f-c207-436f-bf39-1b0fcbfc71f4"
      },
      "source": [
        "Adam_weights = optimizer_weights.get('Adam')\n",
        "Adam_weights_items = list(Adam_weights.items())\n",
        "print(Adam_weights_items)"
      ],
      "execution_count": 15,
      "outputs": [
        {
          "output_type": "stream",
          "text": [
            "[('conv2d', <HDF5 group \"/optimizer_weights/Adam/conv2d\" (2 members)>), ('dense', <HDF5 group \"/optimizer_weights/Adam/dense\" (2 members)>), ('dense_1', <HDF5 group \"/optimizer_weights/Adam/dense_1\" (2 members)>), ('iter:0', <HDF5 dataset \"iter:0\": shape (), type \"<i8\">)]\n"
          ],
          "name": "stdout"
        }
      ]
    },
    {
      "cell_type": "code",
      "metadata": {
        "colab": {
          "base_uri": "https://localhost:8080/"
        },
        "id": "31DjyN9t1clB",
        "outputId": "cd78a730-bc8f-4f46-e7a1-b1151c7ab07b"
      },
      "source": [
        "conv2d = Adam_weights.get('conv2d')\n",
        "conv2d_items = list(conv2d.items())\n",
        "print(conv2d_items)\n",
        "\n",
        "bias_Conv2d = conv2d.get('bias')\n",
        "print(bias_Conv2d)\n",
        "\n",
        "kernel_Conv2d = conv2d.get('kernel')\n",
        "print(kernel_Conv2d)\n",
        "\n",
        "bias_conv2d = np.array(bias_Conv2d.get('m:0'))\n",
        "print(bias_conv2d)\n",
        "\n",
        "kernel_conv2d = np.array(kernel_Conv2d.get('v:0'))\n",
        "print(kernel_conv2d)"
      ],
      "execution_count": 16,
      "outputs": [
        {
          "output_type": "stream",
          "text": [
            "[('bias', <HDF5 group \"/optimizer_weights/Adam/conv2d/bias\" (2 members)>), ('kernel', <HDF5 group \"/optimizer_weights/Adam/conv2d/kernel\" (2 members)>)]\n",
            "<HDF5 group \"/optimizer_weights/Adam/conv2d/bias\" (2 members)>\n",
            "<HDF5 group \"/optimizer_weights/Adam/conv2d/kernel\" (2 members)>\n",
            "[-1.31022098e-04 -1.07805589e-02  1.18607432e-02  1.29651710e-01\n",
            " -9.53524467e-03 -1.19264927e-02  2.17711162e-02 -1.98273500e-03\n",
            "  3.22294584e-03  2.18585469e-02  1.44659616e-02  1.73575431e-02\n",
            "  1.11893425e-02 -1.86502317e-03 -8.16864020e-04  1.92869417e-02\n",
            " -5.26732206e-03 -1.10835247e-02  2.12983135e-02  1.60276517e-02\n",
            " -9.20296181e-03  4.98792492e-02 -8.61302542e-04 -3.19724344e-03\n",
            "  2.47570835e-02 -1.11336140e-02  2.66711004e-02 -3.95020917e-02\n",
            "  4.02340554e-02 -1.72641873e-02  4.82160337e-02  1.37211069e-01\n",
            "  1.31505048e-02 -4.66941623e-03  3.30273062e-02  1.90730654e-02\n",
            "  2.89727864e-03  3.05294655e-02 -2.99745734e-04  3.80322710e-02\n",
            " -1.69181149e-03 -1.05423601e-02  1.43374344e-02  1.73133463e-02\n",
            "  1.09377215e-02  3.89546938e-02 -8.26791767e-03  8.01464822e-03\n",
            " -1.11639779e-02 -1.48868922e-03  5.18574566e-03  1.86249707e-02\n",
            " -1.84755400e-02 -1.42429387e-02 -3.72700510e-03  2.67625637e-02\n",
            "  2.31137350e-02  4.38217400e-03  7.00496733e-02 -2.14890679e-06\n",
            " -1.09949359e-03  1.52370939e-02  2.17389110e-02  4.10979167e-02]\n",
            "[[[[2.40433539e-04 1.61547996e-05 3.22001358e-03 2.10200786e-03\n",
            "    7.03400467e-03 2.70388415e-03 9.47992201e-04 1.00107107e-03\n",
            "    5.41150803e-04 7.30644958e-03 2.04344280e-03 1.02695031e-03\n",
            "    8.07516277e-04 2.24226838e-04 6.99879194e-04 6.39890568e-05\n",
            "    3.38301761e-03 1.58467074e-03 2.52075144e-04 3.85262189e-03\n",
            "    2.84172947e-05 7.80821065e-05 2.77142244e-04 2.78468803e-03\n",
            "    1.31842203e-03 1.04732336e-02 9.25850775e-03 3.47077521e-03\n",
            "    3.21400912e-05 1.40000309e-03 3.98990093e-03 9.26652085e-03\n",
            "    9.74145252e-04 3.48377507e-04 6.76993979e-03 3.53646488e-03\n",
            "    3.51122511e-03 9.11222014e-05 6.19156111e-04 3.63265956e-03\n",
            "    6.77156320e-04 1.34374000e-04 2.56455445e-04 1.86247089e-05\n",
            "    7.53990607e-05 1.39926409e-03 3.18678608e-03 2.69774743e-03\n",
            "    3.05407186e-04 1.32511132e-05 3.27851565e-04 2.24902318e-03\n",
            "    2.10431702e-02 2.65594246e-03 1.13927969e-03 5.81106811e-04\n",
            "    1.25048985e-03 2.59388844e-03 3.51495519e-02 1.99114858e-09\n",
            "    8.35305604e-04 3.45578941e-04 1.19442889e-03 2.83302227e-03]]\n",
            "\n",
            "  [[6.73653485e-05 6.60109945e-05 3.12560913e-03 1.43489556e-03\n",
            "    7.06010824e-03 2.88612884e-03 6.74960087e-04 1.07904861e-03\n",
            "    1.11167319e-03 7.28637213e-03 1.83225854e-03 7.34887493e-04\n",
            "    3.66956345e-04 3.17833939e-04 6.89506938e-04 2.59021108e-05\n",
            "    1.88039779e-03 8.42444424e-05 4.38655872e-04 6.73011411e-03\n",
            "    1.02555132e-04 6.80480152e-04 3.11396027e-04 2.58984417e-03\n",
            "    1.31407217e-03 1.00898603e-02 1.21870171e-02 3.79460910e-03\n",
            "    1.00957614e-03 1.48422213e-03 4.92931856e-03 1.44465454e-02\n",
            "    8.19308218e-04 1.40165421e-05 7.65749440e-03 1.63543527e-03\n",
            "    2.07264326e-03 7.02331658e-04 8.39414599e-04 2.25440064e-03\n",
            "    9.56369506e-04 3.97240619e-05 4.03411716e-04 1.00494299e-05\n",
            "    3.69539222e-04 5.91267817e-05 5.18518267e-03 2.43573007e-03\n",
            "    3.78142111e-04 3.39306949e-04 4.11438552e-04 2.54005007e-03\n",
            "    1.93504412e-02 2.49929540e-03 1.05750549e-03 9.49467474e-04\n",
            "    7.44759687e-04 1.02142710e-03 2.98202932e-02 5.21626120e-09\n",
            "    6.57945173e-04 9.01756051e-04 1.51936954e-03 9.98503063e-04]]\n",
            "\n",
            "  [[1.20292563e-04 5.36046127e-06 2.53578904e-03 4.35831054e-04\n",
            "    7.03419000e-03 2.48207361e-03 6.33609947e-04 1.41182553e-03\n",
            "    5.39464410e-04 5.13969036e-03 1.22584007e-03 2.10103884e-04\n",
            "    8.05481453e-04 2.73343903e-04 8.10096681e-04 3.50299873e-04\n",
            "    1.17418577e-03 1.13180504e-04 8.39217508e-04 5.49739785e-03\n",
            "    3.61744984e-04 9.21577157e-04 3.18942068e-04 2.86751101e-03\n",
            "    1.92097004e-03 9.57269967e-03 1.00768190e-02 2.83925026e-03\n",
            "    5.31924469e-03 2.90862052e-03 4.83199721e-03 9.76826902e-03\n",
            "    8.82208697e-04 4.10192952e-05 6.41349889e-03 2.18916545e-03\n",
            "    2.54949066e-03 1.34450779e-03 6.63856161e-04 1.43608905e-03\n",
            "    1.12793723e-03 3.04764835e-04 6.04277884e-04 9.98060801e-04\n",
            "    8.99124367e-04 8.70381846e-05 5.53458091e-03 1.80036889e-03\n",
            "    1.41069264e-04 2.46272888e-03 5.35352679e-04 4.43191407e-03\n",
            "    2.00594850e-02 3.37521965e-03 1.04732544e-03 6.57160534e-04\n",
            "    1.08167040e-03 2.20192410e-03 3.21258344e-02 1.12968523e-08\n",
            "    7.25874153e-04 1.59122038e-03 1.44417956e-03 1.75057212e-03]]]\n",
            "\n",
            "\n",
            " [[[3.16767604e-04 1.08108588e-05 1.20956672e-03 1.68867875e-03\n",
            "    7.58918049e-03 1.78625260e-03 9.05170222e-04 8.34043429e-04\n",
            "    6.70570531e-04 7.72362622e-03 1.93250296e-03 2.15097331e-03\n",
            "    9.28643800e-04 2.07961712e-04 5.68018178e-04 4.18571697e-04\n",
            "    2.75376183e-03 2.70587695e-03 1.06762032e-04 4.24980093e-03\n",
            "    4.14675393e-04 1.18881711e-04 3.12282151e-04 4.55116242e-04\n",
            "    1.43268728e-03 1.20290536e-02 1.02401217e-02 2.48714397e-03\n",
            "    3.58283105e-05 2.45557260e-03 4.14241245e-03 9.62971151e-03\n",
            "    1.86592602e-04 2.95126927e-04 5.94478054e-03 3.96188814e-03\n",
            "    5.69420576e-04 1.21649890e-03 7.51865271e-04 2.27103219e-03\n",
            "    8.43725982e-04 8.02723574e-04 3.86681990e-04 7.07156578e-05\n",
            "    1.11911555e-04 2.33235443e-03 3.71027365e-03 8.99299048e-04\n",
            "    4.61721414e-04 1.92712090e-04 3.67904664e-04 1.95876602e-03\n",
            "    2.12029144e-02 3.30021302e-03 8.75976402e-04 8.15432228e-04\n",
            "    5.12648898e-04 3.95069318e-03 3.29471715e-02 9.15500742e-09\n",
            "    6.55002135e-04 1.15777098e-03 9.29511734e-04 1.33277185e-03]]\n",
            "\n",
            "  [[2.60692177e-04 9.90246699e-05 1.22775952e-03 9.77499876e-04\n",
            "    4.10721218e-03 2.04618881e-03 3.95298324e-04 7.72185042e-04\n",
            "    1.29691313e-03 7.83776306e-03 1.73338642e-03 1.58789498e-03\n",
            "    5.64617920e-04 3.51641967e-04 4.79573151e-04 1.97604997e-04\n",
            "    1.94839679e-03 8.22510512e-04 7.77791574e-05 5.98483114e-03\n",
            "    2.77836429e-04 6.99166558e-04 2.12467363e-04 6.00433268e-04\n",
            "    1.68093666e-03 9.41854063e-03 9.10380483e-03 1.79592846e-03\n",
            "    1.44737784e-03 3.05967685e-03 2.94206268e-03 1.30995736e-02\n",
            "    1.64727549e-04 3.34134056e-05 7.76259648e-03 2.10687192e-03\n",
            "    9.17890357e-05 2.01460323e-03 8.80612934e-04 3.89020192e-04\n",
            "    8.52807134e-04 5.03709074e-04 3.51987866e-04 3.48278336e-05\n",
            "    5.52182610e-04 7.67711957e-04 5.14718611e-03 5.53841644e-04\n",
            "    5.15188091e-04 9.69560817e-04 3.95309005e-04 2.19007535e-03\n",
            "    1.88494138e-02 3.05573875e-03 7.76779547e-04 1.03136105e-03\n",
            "    3.06354777e-05 6.20252395e-04 2.95029674e-02 2.94646952e-07\n",
            "    8.56280152e-04 1.78813830e-03 1.51080335e-03 4.05841914e-04]]\n",
            "\n",
            "  [[4.16626572e-04 7.26609069e-05 1.31089834e-03 2.08237718e-04\n",
            "    4.86664847e-03 2.08014227e-03 5.06818527e-04 1.14931131e-03\n",
            "    5.18754357e-04 6.84842234e-03 1.39412552e-03 1.30074844e-03\n",
            "    1.16964162e-03 3.27431859e-04 5.70376113e-04 6.05791283e-04\n",
            "    5.85154979e-04 7.34876492e-04 5.20897622e-04 5.09949774e-03\n",
            "    3.75376199e-04 1.24207884e-03 2.03885793e-04 1.98096922e-03\n",
            "    1.98415504e-03 9.19860415e-03 6.83774240e-03 1.59122120e-03\n",
            "    4.57450468e-03 4.16054390e-03 5.06166322e-03 9.28769633e-03\n",
            "    4.85398428e-04 2.47304211e-04 5.98929077e-03 3.44039896e-03\n",
            "    2.54748942e-04 1.66129426e-03 6.87586260e-04 1.82134376e-04\n",
            "    1.11157726e-03 5.46117197e-04 5.04308206e-04 1.28589047e-03\n",
            "    1.24150014e-03 1.00119191e-03 6.39341027e-03 7.76360335e-04\n",
            "    2.51892256e-04 2.47087819e-03 5.95292193e-04 4.15145326e-03\n",
            "    1.87776554e-02 3.05917789e-03 5.94338111e-04 7.85445969e-04\n",
            "    4.02981503e-04 5.25487645e-04 3.15952450e-02 1.64574612e-08\n",
            "    6.57928875e-04 1.94478047e-03 1.37369591e-03 1.79155485e-03]]]\n",
            "\n",
            "\n",
            " [[[3.18935898e-04 3.67076020e-04 3.12906457e-04 1.70455349e-03\n",
            "    4.55329940e-03 1.43602071e-03 8.03616829e-04 9.08552902e-04\n",
            "    6.75611838e-04 8.91972985e-03 1.89955987e-03 1.99655769e-03\n",
            "    7.70382117e-04 1.05986219e-04 4.40433563e-04 9.49197216e-04\n",
            "    1.43821107e-03 3.08750104e-03 1.90052797e-05 3.30021139e-03\n",
            "    5.43914561e-04 5.59205713e-04 6.64845720e-05 1.04808960e-05\n",
            "    1.64132973e-03 1.00837676e-02 8.17469321e-03 1.14828674e-03\n",
            "    6.67272427e-04 3.78665072e-03 4.63864859e-03 8.88331328e-03\n",
            "    8.46975381e-05 1.68700540e-03 5.73022990e-03 4.81432443e-03\n",
            "    1.70183150e-04 1.29928486e-03 6.09000854e-04 1.43551524e-03\n",
            "    7.25153193e-04 1.12912839e-03 3.93886672e-04 9.03063396e-04\n",
            "    6.92574598e-04 2.35338951e-03 5.78557234e-03 6.56531556e-05\n",
            "    4.45721467e-04 1.78523827e-03 4.80177230e-04 1.74026366e-03\n",
            "    1.97967105e-02 1.09495409e-03 4.64411249e-04 7.35933601e-04\n",
            "    6.40459883e-04 4.78143943e-03 2.76962500e-02 3.06284704e-07\n",
            "    6.54457079e-04 1.02416927e-03 8.32521648e-04 6.59451121e-04]]\n",
            "\n",
            "  [[2.78705527e-04 7.05285463e-04 4.60650626e-04 8.33069964e-04\n",
            "    2.50925566e-03 1.24512089e-03 2.65826209e-04 7.86122633e-04\n",
            "    1.26331777e-03 9.17188544e-03 1.78861548e-03 1.41658750e-03\n",
            "    4.10645327e-04 2.69212032e-04 5.31800382e-04 1.17153744e-03\n",
            "    1.63889700e-03 2.23727035e-03 3.52566967e-05 4.72912053e-03\n",
            "    5.15037391e-04 1.06182310e-03 5.76234052e-05 7.67956863e-06\n",
            "    1.75870792e-03 8.48286971e-03 4.79050772e-03 3.84876621e-04\n",
            "    2.43401737e-03 4.49755741e-03 2.23769923e-03 1.10020144e-02\n",
            "    6.32276497e-05 1.96923874e-03 7.44873052e-03 3.50345578e-03\n",
            "    8.10542588e-06 1.95019029e-03 6.27716945e-04 7.29746534e-05\n",
            "    7.40412972e-04 8.33269500e-04 4.02384496e-04 1.19968236e-03\n",
            "    1.07551704e-03 2.09554564e-03 4.58002649e-03 1.64723842e-05\n",
            "    6.29812654e-04 2.02150992e-03 4.83879325e-04 2.20035831e-03\n",
            "    1.67433638e-02 6.36802753e-04 5.05039236e-04 8.05323187e-04\n",
            "    1.96205638e-05 2.93618138e-03 2.76267510e-02 4.19178349e-07\n",
            "    9.98221221e-04 1.18739530e-03 1.24221423e-03 5.12113984e-05]]\n",
            "\n",
            "  [[3.91304027e-04 1.34054339e-03 4.55357105e-04 2.61535228e-04\n",
            "    5.89351729e-03 1.32557971e-03 4.60609503e-04 1.07091677e-03\n",
            "    4.98175621e-04 7.47835496e-03 1.54418056e-03 1.04608282e-03\n",
            "    6.75616029e-04 2.19719324e-04 5.86866052e-04 1.44601287e-03\n",
            "    1.35109306e-03 2.23259418e-03 4.05496045e-04 5.54878917e-03\n",
            "    5.68939140e-04 1.27482426e-03 1.09329951e-04 6.00973726e-04\n",
            "    1.84564560e-03 8.43551196e-03 5.43528097e-03 7.65522826e-04\n",
            "    3.21432855e-03 3.57107120e-03 3.86559125e-03 8.38134997e-03\n",
            "    2.57374777e-04 2.28067860e-03 7.14741740e-03 5.32271015e-03\n",
            "    2.27405217e-05 1.99359306e-03 3.99686221e-04 2.78065017e-05\n",
            "    8.71568103e-04 1.17412454e-03 4.47219965e-04 3.03845922e-03\n",
            "    1.12092611e-03 1.59306382e-03 2.95054936e-03 8.83531829e-05\n",
            "    4.45604557e-04 2.74650170e-03 5.57365827e-04 4.25000209e-03\n",
            "    1.63350850e-02 6.29464630e-04 4.60193987e-04 5.35686151e-04\n",
            "    4.10778361e-04 1.97565695e-03 2.85950471e-02 1.27589161e-09\n",
            "    7.76021334e-04 1.37130788e-03 1.51246646e-03 1.62716210e-03]]]]\n"
          ],
          "name": "stdout"
        }
      ]
    },
    {
      "cell_type": "code",
      "metadata": {
        "colab": {
          "base_uri": "https://localhost:8080/"
        },
        "id": "xdWl5GVo1djE",
        "outputId": "2da24fc4-96a2-46ac-8229-51dcc11006f5"
      },
      "source": [
        "dense = Adam_weights.get('dense')\n",
        "dense_items = list(dense.items())\n",
        "print(dense_items)\n",
        "\n",
        "bias_Dense = dense.get('bias')\n",
        "print(bias_Dense)\n",
        "\n",
        "kernel_Dense = dense.get('kernel')\n",
        "print(kernel_Dense)\n",
        "\n",
        "bias_dense = np.array(bias_Dense.get('m:0'))\n",
        "print(bias_dense)\n",
        "\n",
        "kernel_dense = np.array(kernel_Dense.get('v:0'))\n",
        "print(kernel_dense)"
      ],
      "execution_count": 17,
      "outputs": [
        {
          "output_type": "stream",
          "text": [
            "[('bias', <HDF5 group \"/optimizer_weights/Adam/dense/bias\" (2 members)>), ('kernel', <HDF5 group \"/optimizer_weights/Adam/dense/kernel\" (2 members)>)]\n",
            "<HDF5 group \"/optimizer_weights/Adam/dense/bias\" (2 members)>\n",
            "<HDF5 group \"/optimizer_weights/Adam/dense/kernel\" (2 members)>\n",
            "[-1.9420270e-06  1.9397287e-04  1.6438364e-03 ... -4.8588039e-04\n",
            "  4.8295531e-04  2.0296390e-04]\n",
            "[[9.76655562e-12 9.40633942e-12 1.54223110e-11 ... 2.35056159e-11\n",
            "  2.09561622e-12 1.29896215e-11]\n",
            " [2.28800784e-10 2.14604756e-09 7.15152382e-09 ... 1.15870014e-09\n",
            "  4.99642716e-10 1.54540891e-09]\n",
            " [3.32102916e-13 6.81525808e-11 1.21263458e-10 ... 2.56305498e-11\n",
            "  8.45961235e-12 3.27984341e-11]\n",
            " ...\n",
            " [7.04321670e-12 7.65792083e-11 1.81444623e-10 ... 3.28994401e-11\n",
            "  5.78196345e-11 4.45822129e-11]\n",
            " [1.27017338e-11 4.75530171e-11 1.92963492e-10 ... 2.69916190e-11\n",
            "  5.13558328e-11 6.80920181e-11]\n",
            " [4.77647755e-10 2.61913446e-09 2.25594814e-08 ... 2.40542097e-09\n",
            "  8.93449092e-10 8.55023885e-10]]\n"
          ],
          "name": "stdout"
        }
      ]
    },
    {
      "cell_type": "code",
      "metadata": {
        "colab": {
          "base_uri": "https://localhost:8080/"
        },
        "id": "wHGG1jmf1gBe",
        "outputId": "b0325c7e-8816-47e5-82d0-fbb5e807eb7a"
      },
      "source": [
        "dense_1 = Adam_weights.get('dense_1')\n",
        "dense_1_items = list(dense_1.items())\n",
        "print(dense_1_items)\n",
        "\n",
        "bias_Dense_1 = dense_1.get('bias')\n",
        "print(bias_Dense)\n",
        "\n",
        "kernel_Dense_1 = dense_1.get('kernel')\n",
        "print(kernel_Dense)\n",
        "\n",
        "bias_dense_1 = np.array(bias_Dense_1.get('m:0'))\n",
        "print(bias_dense_1)\n",
        "\n",
        "kernel_dense_1 = np.array(kernel_Dense_1.get('v:0'))\n",
        "print(kernel_dense_1)"
      ],
      "execution_count": 18,
      "outputs": [
        {
          "output_type": "stream",
          "text": [
            "[('bias', <HDF5 group \"/optimizer_weights/Adam/dense_1/bias\" (2 members)>), ('kernel', <HDF5 group \"/optimizer_weights/Adam/dense_1/kernel\" (2 members)>)]\n",
            "<HDF5 group \"/optimizer_weights/Adam/dense/bias\" (2 members)>\n",
            "<HDF5 group \"/optimizer_weights/Adam/dense/kernel\" (2 members)>\n",
            "[ 0.00176949  0.00047284 -0.01102074  0.00472248  0.00952962 -0.00358101\n",
            " -0.00353573  0.00108146  0.00195546 -0.00139389]\n",
            "[[1.8067051e-06 6.3781937e-07 3.6584368e-06 ... 2.3788316e-07\n",
            "  2.3628118e-06 1.5298215e-07]\n",
            " [1.2694123e-04 3.1907439e-05 7.2421390e-05 ... 2.3981522e-06\n",
            "  1.5677682e-05 1.5919943e-06]\n",
            " [2.4572404e-05 1.4649202e-05 1.4259572e-04 ... 8.4925423e-06\n",
            "  1.2532688e-05 1.1983144e-05]\n",
            " ...\n",
            " [1.5830023e-05 3.1236081e-07 7.2437244e-05 ... 2.0061079e-06\n",
            "  2.2145678e-06 2.7380838e-06]\n",
            " [8.4661017e-04 5.8744787e-05 1.4139167e-03 ... 7.6006922e-06\n",
            "  1.5622668e-04 3.4247016e-06]\n",
            " [1.3480610e-05 2.2208901e-06 2.6558660e-05 ... 5.7591667e-05\n",
            "  1.8236631e-05 1.1425300e-05]]\n"
          ],
          "name": "stdout"
        }
      ]
    },
    {
      "cell_type": "code",
      "metadata": {
        "colab": {
          "base_uri": "https://localhost:8080/",
          "height": 265
        },
        "id": "nFkdxiyc1iLj",
        "outputId": "66d0df48-d26a-4e38-9622-d78bc0fef9c1"
      },
      "source": [
        "W = kernel_conv2d\n",
        "X_tr = x_train[5].reshape(784,1)\n",
        "plt.imshow(x_train[5])\n",
        "plt.show()\n",
        "b1 = bias_conv2d\n",
        "\n",
        "\n",
        "def conv2D(W, X, b):\n",
        "    z = np.dot(W, X) +b\n",
        "    return z\n"
      ],
      "execution_count": 62,
      "outputs": [
        {
          "output_type": "display_data",
          "data": {
            "image/png": "[encoded data removed]",
            "text/plain": [
              "<Figure size 432x288 with 1 Axes>"
            ]
          },
          "metadata": {
            "tags": [],
            "needs_background": "light"
          }
        }
      ]
    },
    {
      "cell_type": "code",
      "metadata": {
        "id": "iykR1bpZ1moV"
      },
      "source": [
        "def maxpool(Z, width, stride):\n",
        "    img_length = int(np.sqrt(len(Z)))                   #=26 in our case\n",
        "    img = np.reshape(Z, [img_length, img_length])     #=13 in our case\n",
        "    pooled_img_length = int(img_length/stride)\n",
        "\n",
        "    Pooled_img = np.empty([pooled_img_length, pooled_img_length])\n",
        "    for i in range(0, pooled_img_length):\n",
        "        for j in range(0, pooled_img_length):\n",
        "            pixels = np.array([img[i*width, j*width], img[i*width, (j*width)+1], img[(i*width)+1, j*width], img[(i*width)+1, (j*width)+1]])\n",
        "            Pooled_img[i, j] = np.max(pixels)\n",
        "\n",
        "    return Pooled_img\n"
      ],
      "execution_count": 63,
      "outputs": []
    },
    {
      "cell_type": "code",
      "metadata": {
        "id": "SOktgaw61qRz"
      },
      "source": [
        "Kernels = {}\n",
        "Wts_row = {}\n",
        "WEIGHTS_CONV2D = {}\n",
        "Z_CONV2D = {}\n",
        "Z_MAXPOOL = {}\n",
        "\n",
        "#print(W)\n",
        "W1 = W[0, 0, 0, :]\n",
        "W2 = W[0, 1, 0, :]\n",
        "W3 = W[0, 2, 0, :]\n",
        "W4 = W[1, 0, 0, :]\n",
        "W5 = W[1, 1, 0, :]\n",
        "W6 = W[1, 2, 0, :]\n",
        "W7 = W[2, 0, 0, :]\n",
        "W8 = W[2, 1, 0, :]\n",
        "W9 = W[2, 2, 0, :]\n",
        "\n",
        "for i in range(0, 64):\n",
        "    Kernels['K'+str(i)] = [[W1[i], W2[i], W3[i]],\n",
        "                           [W4[i], W5[i], W6[i]],\n",
        "                           [W7[i], W8[i], W9[i]]]\n",
        "\n",
        "# print(Kernels['K'+str(42)])\n",
        "\n",
        "for i in range(0, 64):\n",
        "    V = Kernels['K' + str(i)]\n",
        "    Zeros = np.zeros(25)\n",
        "    Wts_row['Wts' + str(i)] = np.concatenate([V[0], Zeros, V[1], Zeros, V[2]])\n",
        "\n",
        "Wts_row_length = np.size(Wts_row['Wts' + str(56)])      #All 'weights' rows are of same length\n",
        "# print('Length of weights row: ', Wts_row_length)\n",
        "\n",
        "#Generates indices where kernel has to be applied to get feature maps\n",
        "Nos = np.arange(784)\n",
        "Nos = np.reshape(Nos, [28, 28])\n",
        "Nos = Nos[:, :-2]\n",
        "Nos = np.ndarray.flatten(Nos)\n",
        "# print(Nos)\n",
        "\n",
        "for j in range(0, 64):\n",
        "    WEIGHTS_CONV2D['w_conv' + str(j)] = np.concatenate([Wts_row['Wts' + str(j)], np.zeros(784 - Wts_row_length)])\n",
        "    for i in range(1, 676):\n",
        "        INDEX = Nos[i]\n",
        "        ROW = np.concatenate([np.zeros(INDEX), Wts_row['Wts' + str(j)], np.zeros(784 - Wts_row_length - INDEX)])\n",
        "        WEIGHTS_CONV2D['w_conv' + str(j)] = np.vstack([WEIGHTS_CONV2D['w_conv' + str(j)], ROW])\n",
        "\n",
        "# print(np.shape(WEIGHTS_CONV2D))\n",
        "# plt.matshow(WEIGHTS/np.max(WEIGHTS))\n",
        "# plt.show()\n",
        "\n",
        "for i in range(0, 64):\n",
        "    Wi = WEIGHTS_CONV2D['w_conv' + str(i)]\n",
        "    Z_CONV2D['z_conv2d'+str(i)] = conv2D(Wi, X_tr, b1[i]) \n",
        "\n",
        "for i in range(0, 64):\n",
        "    Z_MAXPOOL['z_maxpool'+str(i)] = maxpool(Z_CONV2D['z_conv2d'+str(i)], 2, 2)"
      ],
      "execution_count": 64,
      "outputs": []
    },
    {
      "cell_type": "code",
      "metadata": {
        "id": "dcMTr1_a1xRm"
      },
      "source": [
        ""
      ],
      "execution_count": 64,
      "outputs": []
    },
    {
      "cell_type": "code",
      "metadata": {
        "colab": {
          "base_uri": "https://localhost:8080/",
          "height": 265
        },
        "id": "fhLifel21tRO",
        "outputId": "117b49b4-3e94-443c-d51f-419d07c6e910"
      },
      "source": [
        "FEATURE_MAP = np.reshape(Z_CONV2D['z_conv2d'+str(33)], [26, 26])\n",
        "plt.imshow(FEATURE_MAP)\n",
        "plt.show()"
      ],
      "execution_count": 65,
      "outputs": [
        {
          "output_type": "display_data",
          "data": {
            "image/png": "[encoded data removed]",
            "text/plain": [
              "<Figure size 432x288 with 1 Axes>"
            ]
          },
          "metadata": {
            "tags": [],
            "needs_background": "light"
          }
        }
      ]
    },
    {
      "cell_type": "code",
      "metadata": {
        "colab": {
          "base_uri": "https://localhost:8080/",
          "height": 265
        },
        "id": "mq7DvOgF1u5U",
        "outputId": "af8835aa-3bff-4920-af3d-a2f0823aafd6"
      },
      "source": [
        "FEATURE_MAP_MAX_POOLING = np.reshape(Z_MAXPOOL['z_maxpool'+str(33)], [13, 13])\n",
        "plt.imshow(FEATURE_MAP_MAX_POOLING)\n",
        "plt.show()"
      ],
      "execution_count": 66,
      "outputs": [
        {
          "output_type": "display_data",
          "data": {
            "image/png": "[encoded data removed]",
            "text/plain": [
              "<Figure size 432x288 with 1 Axes>"
            ]
          },
          "metadata": {
            "tags": [],
            "needs_background": "light"
          }
        }
      ]
    },
    {
      "cell_type": "code",
      "metadata": {
        "id": "98a7kD6e1yl7"
      },
      "source": [
        "Weight2 = kernel_dense\n",
        "bias2 = bias_dense\n",
        "Weight3 = kernel_dense_1\n",
        "bias3 = bias_dense_1"
      ],
      "execution_count": 67,
      "outputs": []
    },
    {
      "cell_type": "code",
      "metadata": {
        "id": "uyzSLMYi1zea"
      },
      "source": [
        "def relu_function(z):\n",
        "    h = np.maximum(z, 0)\n",
        "    return h\n",
        "\n",
        "def dense(H, W, b):\n",
        "    z = np.dot(np.transpose(W), H) + b\n",
        "    return z\n",
        "\n",
        "def softmax(z):\n",
        "  return np.exp(z)/np.sum(np.exp(z), axis = 0, keepdims = True)"
      ],
      "execution_count": 68,
      "outputs": []
    },
    {
      "cell_type": "code",
      "metadata": {
        "id": "p15dsneb11Mj"
      },
      "source": [
        "Z_RELU1={}\n",
        "\n",
        "for i in range(0, 64):\n",
        "    Z_RELU1['z_relu_one'+str(i)] = relu_function(Z_MAXPOOL['z_maxpool'+str(i)])\n",
        "\n",
        "# print(np.shape(Z_RELU1['z_relu_one'+str(0)]))\n",
        "\n",
        "Z_FLATTENED = np.ndarray.flatten(Z_RELU1['z_relu_one'+str(0)])\n",
        "for i in range(1, 64):\n",
        "    Z_FLATTENED = np.concatenate([Z_FLATTENED, np.ndarray.flatten( Z_RELU1['z_relu_one'+str(i)])])\n",
        "\n",
        "# print(np.shape(Z_FLATTENED))\n",
        "Z_DENSE1 = dense(Z_FLATTENED, Weight2, bias2)\n",
        "Z_RELU2 = relu_function(Z_DENSE1)\n",
        "Z_DENSE2 = dense(Z_RELU2, Weight3, bias3)\n",
        "SOFTMAX = softmax(Z_DENSE2)"
      ],
      "execution_count": 69,
      "outputs": []
    },
    {
      "cell_type": "code",
      "metadata": {
        "colab": {
          "base_uri": "https://localhost:8080/"
        },
        "id": "IiinOGZK13DI",
        "outputId": "2335f174-3fea-4bb4-fb34-8e072a7ba622"
      },
      "source": [
        "print(SOFTMAX)"
      ],
      "execution_count": 70,
      "outputs": [
        {
          "output_type": "stream",
          "text": [
            "[0.10017616 0.10004449 0.09890372 0.1004721  0.10095862 0.09963971\n",
            " 0.09964868 0.10010561 0.10019293 0.09985799]\n"
          ],
          "name": "stdout"
        }
      ]
    },
    {
      "cell_type": "code",
      "metadata": {
        "colab": {
          "base_uri": "https://localhost:8080/"
        },
        "id": "oxgRbKt017WM",
        "outputId": "22fb435d-1045-4b43-a21d-51b112df8702"
      },
      "source": [
        "x = x_train[890].reshape(1,28,28,1)\n",
        "y_hat = model.predict(x)\n",
        "print(y_hat)"
      ],
      "execution_count": 71,
      "outputs": [
        {
          "output_type": "stream",
          "text": [
            "[[0. 0. 0. 0. 0. 0. 0. 1. 0. 0.]]\n"
          ],
          "name": "stdout"
        }
      ]
    },
    {
      "cell_type": "code",
      "metadata": {
        "id": "C5MahSuj2BOR"
      },
      "source": [
        ""
      ],
      "execution_count": null,
      "outputs": []
    }
  ]
}