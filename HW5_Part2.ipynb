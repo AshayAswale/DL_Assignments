{
  "nbformat": 4,
  "nbformat_minor": 0,
  "metadata": {
    "colab": {
      "name": "HW5_Part2.ipynb",
      "provenance": [],
      "collapsed_sections": []
    },
    "kernelspec": {
      "name": "python3",
      "display_name": "Python 3"
    }
  },
  "cells": [
    {
      "cell_type": "code",
      "metadata": {
        "colab": {
          "base_uri": "https://localhost:8080/"
        },
        "id": "10zMjpfRK8XO",
        "outputId": "50ed7d92-8572-4144-ebf5-f306637cc40b"
      },
      "source": [
        "# Note in Colab you can type \"pip install\" directly in the notebook\n",
        "!pip install -q -U tensorflow>=1.8.0\n",
        "import tensorflow as tf\n",
        "import numpy as np\n",
        "import matplotlib.pyplot as plt# Load the fashion-mnist pre-shuffled train data and test data\n",
        "(x_train, y_train), (x_test, y_test) = tf.keras.datasets.fashion_mnist.load_data()\n",
        "print(\"x_train shape:\", x_train.shape, \"y_train shape:\", y_train.shape)"
      ],
      "execution_count": 41,
      "outputs": [
        {
          "output_type": "stream",
          "text": [
            "x_train shape: (60000, 28, 28) y_train shape: (60000,)\n"
          ],
          "name": "stdout"
        }
      ]
    },
    {
      "cell_type": "code",
      "metadata": {
        "colab": {
          "base_uri": "https://localhost:8080/",
          "height": 350
        },
        "id": "p_Vb6VbLLGXn",
        "outputId": "63d13df5-c617-4615-dcc4-56910d4788ac"
      },
      "source": [
        "# Print training set shape - note there are 60,000 training data of image size of 28x28, 60,000 train labels)\n",
        "print(\"x_train shape:\", x_train.shape, \"y_train shape:\", y_train.shape)\n",
        "\n",
        "# Print the number of training and test datasets\n",
        "print(x_train.shape[0], 'train set')\n",
        "print(x_test.shape[0], 'test set')\n",
        "\n",
        "# Define the text labels\n",
        "fashion_mnist_labels = [\"T-shirt/top\",  # index 0\n",
        "                        \"Trouser\",      # index 1\n",
        "                        \"Pullover\",     # index 2 \n",
        "                        \"Dress\",        # index 3 \n",
        "                        \"Coat\",         # index 4\n",
        "                        \"Sandal\",       # index 5\n",
        "                        \"Shirt\",        # index 6 \n",
        "                        \"Sneaker\",      # index 7 \n",
        "                        \"Bag\",          # index 8 \n",
        "                        \"Ankle boot\"]   # index 9\n",
        "\n",
        "# Image index, you can pick any number between 0 and 59,999\n",
        "img_index = 5\n",
        "# y_train contains the lables, ranging from 0 to 9\n",
        "label_index = y_train[img_index]\n",
        "# Print the label, for example 2 Pullover\n",
        "print (\"y = \" + str(label_index) + \" \" +(fashion_mnist_labels[label_index]))\n",
        "# # Show one of the images from the training dataset\n",
        "plt.imshow(x_train[img_index])"
      ],
      "execution_count": 42,
      "outputs": [
        {
          "output_type": "stream",
          "text": [
            "x_train shape: (60000, 28, 28) y_train shape: (60000,)\n",
            "60000 train set\n",
            "10000 test set\n",
            "y = 2 Pullover\n"
          ],
          "name": "stdout"
        },
        {
          "output_type": "execute_result",
          "data": {
            "text/plain": [
              "<matplotlib.image.AxesImage at 0x7f9e0791cfd0>"
            ]
          },
          "metadata": {
            "tags": []
          },
          "execution_count": 42
        },
        {
          "output_type": "display_data",
          "data": {
            "image/png": "[encoded data removed]",
            "text/plain": [
              "<Figure size 432x288 with 1 Axes>"
            ]
          },
          "metadata": {
            "tags": [],
            "needs_background": "light"
          }
        }
      ]
    },
    {
      "cell_type": "code",
      "metadata": {
        "colab": {
          "base_uri": "https://localhost:8080/"
        },
        "id": "q6-6S4b2LPTX",
        "outputId": "82848144-40a2-4d8a-b1f6-557c6d14deae"
      },
      "source": [
        "x_train = x_train.astype('float32') / 255\n",
        "x_test = x_test.astype('float32') / 255\n",
        "print(\"Number of train data - \" + str(len(x_train)))\n",
        "print(\"Number of test data - \" + str(len(x_test)))"
      ],
      "execution_count": 3,
      "outputs": [
        {
          "output_type": "stream",
          "text": [
            "Number of train data - 60000\n",
            "Number of test data - 10000\n"
          ],
          "name": "stdout"
        }
      ]
    },
    {
      "cell_type": "code",
      "metadata": {
        "colab": {
          "base_uri": "https://localhost:8080/"
        },
        "id": "vxbn8xYXLTrU",
        "outputId": "b170035b-4e09-4e3e-f0c5-d7309ece6dad"
      },
      "source": [
        "# Further break training data into train / validation sets (# put 5000 into validation set and keep remaining 55,000 for train)\n",
        "(x_train, x_valid) = x_train[5000:], x_train[:5000] \n",
        "(y_train, y_valid) = y_train[5000:], y_train[:5000]\n",
        "\n",
        "# Reshape input data from (28, 28) to (28, 28, 1)\n",
        "w, h = 28, 28\n",
        "x_train = x_train.reshape(x_train.shape[0], w, h, 1)\n",
        "x_valid = x_valid.reshape(x_valid.shape[0], w, h, 1)\n",
        "x_test = x_test.reshape(x_test.shape[0], w, h, 1)\n",
        "\n",
        "# One-hot encode the labels\n",
        "y_train = tf.keras.utils.to_categorical(y_train, 10)\n",
        "y_valid = tf.keras.utils.to_categorical(y_valid, 10)\n",
        "y_test = tf.keras.utils.to_categorical(y_test, 10)\n",
        "\n",
        "# Print training set shape\n",
        "print(\"x_train shape:\", x_train.shape, \"y_train shape:\", y_train.shape)\n",
        "\n",
        "# Print the number of training, validation, and test datasets\n",
        "print(x_train.shape[0], 'train set')\n",
        "print(x_valid.shape[0], 'validation set')\n",
        "print(x_test.shape[0], 'test set')"
      ],
      "execution_count": 4,
      "outputs": [
        {
          "output_type": "stream",
          "text": [
            "x_train shape: (55000, 28, 28, 1) y_train shape: (55000, 10)\n",
            "55000 train set\n",
            "5000 validation set\n",
            "10000 test set\n"
          ],
          "name": "stdout"
        }
      ]
    },
    {
      "cell_type": "code",
      "metadata": {
        "colab": {
          "base_uri": "https://localhost:8080/"
        },
        "id": "mV-oVq0ULZfL",
        "outputId": "f4342825-61e1-4636-ca3a-171f48d3f7f4"
      },
      "source": [
        "model = tf.keras.Sequential()\n",
        "\n",
        "# # Must define the input shape in the first layer of the neural network\n",
        "# model.add(tf.keras.layers.Conv2D(filters=64, kernel_size=2, padding='same', activation='relu', input_shape=(28,28,1))) \n",
        "# model.add(tf.keras.layers.MaxPooling2D(pool_size=2))\n",
        "# model.add(tf.keras.layers.Dropout(0.3))\n",
        "\n",
        "# model.add(tf.keras.layers.Conv2D(filters=32, kernel_size=2, padding='same', activation='relu'))\n",
        "# model.add(tf.keras.layers.MaxPooling2D(pool_size=2))\n",
        "# model.add(tf.keras.layers.Dropout(0.3))\n",
        "\n",
        "# model.add(tf.keras.layers.Flatten())\n",
        "# model.add(tf.keras.layers.Dense(256, activation='relu'))\n",
        "# model.add(tf.keras.layers.Dropout(0.5))\n",
        "# model.add(tf.keras.layers.Dense(10, activation='softmax'))\n",
        "\n",
        "# Convolution layer with 64 filters, each 3x3, stride of 1 (i.e., apply the filter at all pixel locations),\n",
        "# no padding.\n",
        "# • Max pool with a pooling width of 2x2, stride of 2, no padding.\n",
        "# • ReLU.\n",
        "# • Flatten the 64 feature maps into one long vector.\n",
        "# • Fully-connected layer to map into a 1024-dimensional vector.\n",
        "# • ReLU.\n",
        "# • Fully-connected layer to map into a 10-dimensional vector.\n",
        "# • Softmax.\n",
        "\n",
        "model.add(tf.keras.layers.Conv2D(filters=64, kernel_size=3, padding='valid', input_shape=(28, 28, 1)))\n",
        "model.add(tf.keras.layers.MaxPooling2D(pool_size=(2, 2), strides=2, padding='valid'))\n",
        "model.add(tf.keras.layers.Activation(activation='relu'))\n",
        "model.add(tf.keras.layers.Flatten())\n",
        "model.add(tf.keras.layers.Dense(1024, activation='relu'))\n",
        "model.add(tf.keras.layers.Dense(10, activation='softmax'))\n",
        "\n",
        "# Take a look at the model summary\n",
        "model.summary()"
      ],
      "execution_count": 5,
      "outputs": [
        {
          "output_type": "stream",
          "text": [
            "Model: \"sequential\"\n",
            "_________________________________________________________________\n",
            "Layer (type)                 Output Shape              Param #   \n",
            "=================================================================\n",
            "conv2d (Conv2D)              (None, 26, 26, 64)        640       \n",
            "_________________________________________________________________\n",
            "max_pooling2d (MaxPooling2D) (None, 13, 13, 64)        0         \n",
            "_________________________________________________________________\n",
            "activation (Activation)      (None, 13, 13, 64)        0         \n",
            "_________________________________________________________________\n",
            "flatten (Flatten)            (None, 10816)             0         \n",
            "_________________________________________________________________\n",
            "dense (Dense)                (None, 1024)              11076608  \n",
            "_________________________________________________________________\n",
            "dense_1 (Dense)              (None, 10)                10250     \n",
            "=================================================================\n",
            "Total params: 11,087,498\n",
            "Trainable params: 11,087,498\n",
            "Non-trainable params: 0\n",
            "_________________________________________________________________\n"
          ],
          "name": "stdout"
        }
      ]
    },
    {
      "cell_type": "code",
      "metadata": {
        "id": "YzfdqTr8Ldbd"
      },
      "source": [
        "model.compile(loss='categorical_crossentropy', optimizer='adam', metrics=['accuracy'])"
      ],
      "execution_count": 6,
      "outputs": []
    },
    {
      "cell_type": "code",
      "metadata": {
        "colab": {
          "base_uri": "https://localhost:8080/"
        },
        "id": "DLWc8vZ_Lggf",
        "outputId": "bb82c360-4a32-4eed-b209-c233a7ba1918"
      },
      "source": [
        "from keras.callbacks import ModelCheckpoint\n",
        "\n",
        "checkpointer = ModelCheckpoint(filepath='model.weights.best.hdf5', verbose = 1, save_best_only=True)\n",
        "model.fit(x_train,\n",
        "          y_train,\n",
        "          batch_size=32,\n",
        "          epochs=1,\n",
        "          validation_data=(x_valid, y_valid),\n",
        "          callbacks=[checkpointer])"
      ],
      "execution_count": 7,
      "outputs": [
        {
          "output_type": "stream",
          "text": [
            "1719/1719 [==============================] - 245s 142ms/step - loss: 0.4852 - accuracy: 0.8272 - val_loss: 0.2720 - val_accuracy: 0.8976\n",
            "\n",
            "Epoch 00001: val_loss improved from inf to 0.27204, saving model to model.weights.best.hdf5\n"
          ],
          "name": "stdout"
        },
        {
          "output_type": "execute_result",
          "data": {
            "text/plain": [
              "<tensorflow.python.keras.callbacks.History at 0x7f9e167e8290>"
            ]
          },
          "metadata": {
            "tags": []
          },
          "execution_count": 7
        }
      ]
    },
    {
      "cell_type": "code",
      "metadata": {
        "id": "WwrR7O5rLmfg"
      },
      "source": [
        "#Load the weights with the best validation accuracy.\n",
        "model.load_weights('model.weights.best.hdf5')"
      ],
      "execution_count": 9,
      "outputs": []
    },
    {
      "cell_type": "code",
      "metadata": {
        "id": "2v697K3KbYC2"
      },
      "source": [
        "import h5py\n",
        "f = h5py.File('model.weights.best.hdf5', 'r')"
      ],
      "execution_count": 10,
      "outputs": []
    },
    {
      "cell_type": "code",
      "metadata": {
        "id": "267PkfRCaNF-",
        "colab": {
          "base_uri": "https://localhost:8080/"
        },
        "outputId": "23ee144a-86c9-425f-9184-8ce3c277d5a8"
      },
      "source": [
        "base_items = list(f.items())\n",
        "print(base_items)"
      ],
      "execution_count": 12,
      "outputs": [
        {
          "output_type": "stream",
          "text": [
            "[('model_weights', <HDF5 group \"/model_weights\" (6 members)>), ('optimizer_weights', <HDF5 group \"/optimizer_weights\" (1 members)>)]\n"
          ],
          "name": "stdout"
        }
      ]
    },
    {
      "cell_type": "code",
      "metadata": {
        "colab": {
          "base_uri": "https://localhost:8080/"
        },
        "id": "YNwoDniy-05I",
        "outputId": "91c42f46-1aba-419f-bc9d-4a592d7d40c0"
      },
      "source": [
        "model_weights = f.get('model_weights')\n",
        "model_weights_items = list(model_weights.items())\n",
        "print(model_weights_items)"
      ],
      "execution_count": 13,
      "outputs": [
        {
          "output_type": "stream",
          "text": [
            "[('activation', <HDF5 group \"/model_weights/activation\" (0 members)>), ('conv2d', <HDF5 group \"/model_weights/conv2d\" (1 members)>), ('dense', <HDF5 group \"/model_weights/dense\" (1 members)>), ('dense_1', <HDF5 group \"/model_weights/dense_1\" (1 members)>), ('flatten', <HDF5 group \"/model_weights/flatten\" (0 members)>), ('max_pooling2d', <HDF5 group \"/model_weights/max_pooling2d\" (0 members)>)]\n"
          ],
          "name": "stdout"
        }
      ]
    },
    {
      "cell_type": "code",
      "metadata": {
        "colab": {
          "base_uri": "https://localhost:8080/"
        },
        "id": "peqIetwr_Gu9",
        "outputId": "dd36be93-71f1-4802-926e-dd0545b0fdc9"
      },
      "source": [
        "conv2d = model_weights.get('conv2d')\n",
        "conv2d_items = list(conv2d.items())\n",
        "print(conv2d_items)\n",
        "\n",
        "Conv2d = conv2d.get('conv2d')\n",
        "Conv2d_items = list(Conv2d.items())\n",
        "print(Conv2d_items)\n",
        "\n",
        "bias_conv2d = np.array(Conv2d.get('bias:0'))\n",
        "print(bias_conv2d)\n",
        "\n",
        "kernel_conv2d = np.array(Conv2d.get('kernel:0'))\n",
        "print(kernel_conv2d)"
      ],
      "execution_count": 18,
      "outputs": [
        {
          "output_type": "stream",
          "text": [
            "[('conv2d', <HDF5 group \"/model_weights/conv2d/conv2d\" (2 members)>)]\n",
            "[('bias:0', <HDF5 dataset \"bias:0\": shape (64,), type \"<f4\">), ('kernel:0', <HDF5 dataset \"kernel:0\": shape (3, 3, 1, 64), type \"<f4\">)]\n",
            "[-6.0230726e-03 -1.4200043e-02 -4.8372624e-03 -6.2475866e-03\n",
            " -6.5414547e-03 -5.8234669e-03  6.2208645e-02 -1.0642447e-02\n",
            " -9.1434997e-03 -1.7471189e-02 -2.1600636e-02 -2.7356874e-03\n",
            " -5.7792000e-05  2.8939755e-03  1.7337792e-03 -1.7745651e-02\n",
            " -4.0415702e-03 -1.7138767e-03 -4.1316054e-03  1.2797613e-03\n",
            " -6.2939865e-03  5.3490582e-03 -3.9840071e-03 -4.3348372e-03\n",
            " -2.2111009e-03 -7.1348841e-03 -1.4649658e-02  9.4642537e-03\n",
            "  1.2449228e-03 -4.5649740e-03 -1.8985198e-04  6.3069570e-03\n",
            " -5.9699537e-03  7.9180516e-04 -1.6276170e-03 -1.1379577e-03\n",
            "  3.3766308e-03 -1.6651554e-03 -2.9980443e-02 -3.1695713e-03\n",
            " -1.9235054e-02 -8.1741164e-04 -1.1923295e-02 -9.5210801e-04\n",
            " -8.0147089e-04 -3.2621382e-03  4.9838731e-03 -5.1911399e-03\n",
            " -1.2826840e-02 -3.6526434e-03 -4.1565457e-03 -4.7839377e-03\n",
            " -8.9104949e-03  1.2975674e-03 -5.8209016e-03 -9.5833242e-03\n",
            "  8.9635269e-04  8.9753196e-03 -1.3277837e-03  5.7809372e-03\n",
            " -5.3241183e-03 -4.5956031e-04 -1.4015269e-02 -4.2059139e-04]\n",
            "[[[[ 6.41576871e-02 -1.54818483e-02 -2.44308654e-02  7.93715641e-02\n",
            "    -1.27544820e-01 -1.68753397e-02  7.27140978e-02 -1.18801305e-02\n",
            "     7.13741407e-03  5.19917207e-03  4.69785221e-02  1.22287363e-01\n",
            "    -1.76524855e-02 -3.03535868e-04  4.86597903e-02  3.97573896e-02\n",
            "     1.40165791e-01  7.03343973e-02 -1.75386265e-01  6.53812215e-02\n",
            "     1.03277437e-01  1.73246369e-01 -1.23433441e-01 -1.19076498e-01\n",
            "    -4.77369130e-02 -1.29352108e-01 -4.37108874e-02 -1.25933275e-01\n",
            "    -1.26371816e-01  4.28157151e-02 -6.71777800e-02  7.61163384e-02\n",
            "    -7.26397187e-02  2.02527903e-02 -1.13024145e-01 -1.98965564e-01\n",
            "     8.14008489e-02 -1.27872542e-01  5.01658246e-02 -1.18224651e-01\n",
            "     5.14767468e-02 -9.01208892e-02 -1.03572860e-01 -1.59747243e-01\n",
            "     2.39609871e-02 -7.34248832e-02  9.27595049e-02 -8.82655010e-02\n",
            "     3.69908661e-02 -5.97756542e-02 -1.05688283e-02  1.03455663e-01\n",
            "     4.00722101e-02  1.67624354e-02 -7.48872943e-03  7.11757988e-02\n",
            "     6.74330667e-02 -3.36629778e-01 -1.00457296e-01 -2.21243337e-01\n",
            "    -1.07530877e-01 -1.27643928e-01  3.99312098e-03 -1.02058174e-02]]\n",
            "\n",
            "  [[-1.09773099e-01  7.96869472e-02 -8.60228539e-02  6.99650124e-02\n",
            "    -8.79452974e-02  8.49329680e-02 -3.53667960e-02  7.41505250e-02\n",
            "    -9.16907936e-02 -3.73851657e-02  9.60145295e-02  5.72496690e-02\n",
            "    -8.25327411e-02 -8.19350332e-02 -2.24379152e-01 -8.98128673e-02\n",
            "    -9.59172845e-02  5.43170329e-03 -1.47568047e-01 -1.08288467e-01\n",
            "     2.75699291e-02 -1.19930446e-01 -5.63137494e-02  1.19779371e-01\n",
            "     2.91477074e-03  1.05522551e-01 -6.02765903e-02  6.37722164e-02\n",
            "     9.54553857e-02 -8.41989294e-02  7.50198886e-02  5.69496602e-02\n",
            "     1.40444944e-02 -1.06226593e-01 -2.06707567e-02 -8.71119052e-02\n",
            "     1.83606986e-02 -3.95163242e-03  8.88230919e-04  1.29169270e-01\n",
            "     4.57142107e-02 -4.62981276e-02 -6.71106949e-02  5.84996957e-03\n",
            "     7.51892701e-02 -1.05950132e-01 -4.29819264e-02 -5.48761040e-02\n",
            "    -1.30973738e-02  3.30134183e-02  3.86733301e-02  5.25966883e-02\n",
            "     2.56999992e-02 -1.81488261e-01  7.66347498e-02 -1.37465656e-01\n",
            "    -2.49293577e-02 -1.77140817e-01  2.05342416e-02 -9.56854522e-02\n",
            "     1.09369203e-01  4.96674515e-02  2.27335040e-02  1.78298727e-01]]\n",
            "\n",
            "  [[ 2.58082002e-02 -7.21201003e-02  1.15550555e-01 -1.46680117e-01\n",
            "     3.80007662e-02  2.62028761e-02  3.82331833e-02 -5.49114719e-02\n",
            "     9.22849923e-02  1.22211063e-02 -1.14363000e-01  4.19203900e-02\n",
            "     1.24865167e-01 -1.87523440e-01 -1.87992752e-01 -5.08505926e-02\n",
            "    -1.21729366e-01 -9.90172252e-02  3.89969628e-03  7.24895298e-02\n",
            "    -9.43610072e-02 -7.02928826e-02  1.42329067e-01  3.42568196e-03\n",
            "     5.23944609e-02 -7.23144785e-02 -5.65533079e-02  1.09713912e-01\n",
            "     1.66120846e-02 -6.33028299e-02 -1.65574238e-01 -9.44460407e-02\n",
            "     5.37800230e-02 -1.02813728e-01 -1.35612404e-02 -7.33204186e-02\n",
            "    -3.53205986e-02  1.26554489e-01  2.53774710e-02 -3.66772711e-02\n",
            "    -7.53155425e-02 -3.02203238e-01  7.01538250e-02 -1.31187096e-01\n",
            "    -8.48994479e-02 -1.35640576e-01  2.34585889e-02  4.20364961e-02\n",
            "    -1.25301257e-02 -2.41042990e-02 -1.53884679e-01 -1.07818604e-01\n",
            "     1.30365752e-02 -2.42158964e-01 -1.22003272e-01  6.08881339e-02\n",
            "    -3.55859436e-02  4.40561585e-02 -1.17698029e-01  1.25563219e-01\n",
            "     1.42270280e-03 -6.81863353e-02  5.40325567e-02  1.77672625e-01]]]\n",
            "\n",
            "\n",
            " [[[-9.22990888e-02 -8.41535851e-02  5.43376021e-02 -3.26672196e-02\n",
            "     7.88320079e-02  1.65959075e-01 -2.04755008e-01 -9.65996161e-02\n",
            "     9.83133465e-02 -1.07968353e-01  8.74666572e-02 -1.24406599e-01\n",
            "     3.43906395e-02  5.78609966e-02  5.21429442e-02  4.87663373e-02\n",
            "     1.59153819e-01 -9.67149884e-02  1.80545989e-02  1.42193325e-02\n",
            "     6.26617745e-02 -5.09956367e-02 -1.58440337e-01  1.13014609e-01\n",
            "    -1.16379164e-01  2.97572035e-02  6.07261769e-02 -2.30855778e-01\n",
            "    -1.64865255e-01 -2.37237406e-03  6.21886924e-02  1.27022594e-01\n",
            "     8.82548019e-02 -1.98895708e-02 -3.18992287e-02 -9.71347541e-02\n",
            "    -3.37984674e-02  4.12890166e-02  7.78490072e-03  9.14357677e-02\n",
            "    -8.06370527e-02  8.40686485e-02 -4.63125575e-03  1.32309664e-02\n",
            "    -8.12196918e-03  5.67739904e-02  6.17562793e-02  6.87241852e-02\n",
            "     1.05599247e-01 -5.60364388e-02 -4.53159474e-02 -1.61120176e-01\n",
            "    -9.77585241e-02 -3.25057320e-02 -1.17971227e-02 -9.23634320e-02\n",
            "    -2.77039967e-02 -2.24527225e-01 -1.58050090e-01 -1.45732015e-01\n",
            "    -1.03756472e-01  7.27982521e-02 -7.05138892e-02  1.19019724e-01]]\n",
            "\n",
            "  [[ 4.40947786e-02  5.38315289e-02  8.03556964e-02  1.08240016e-01\n",
            "     5.44379987e-02 -5.65632991e-02 -1.08391769e-01 -7.62730464e-03\n",
            "    -1.36036798e-01  1.02209747e-01 -7.35203326e-02 -9.97225642e-02\n",
            "     1.71613079e-02  5.03569692e-02 -3.20369229e-02 -5.96724078e-03\n",
            "    -5.54266013e-02  4.32398170e-02  1.23138614e-01 -1.54888526e-01\n",
            "    -1.41188592e-01 -2.44677976e-01  5.98387271e-02 -4.69469503e-02\n",
            "    -4.77426089e-02 -1.41863286e-01  2.72997785e-02 -1.08504564e-01\n",
            "    -4.92058806e-02  8.22994411e-02  6.53771907e-02 -1.57872438e-01\n",
            "     8.62175301e-02 -9.68053415e-02  7.63401315e-02 -2.11257897e-02\n",
            "     1.42451897e-02 -8.58521834e-02  5.76283596e-03  3.32119339e-03\n",
            "     4.59250771e-02  8.25130474e-03  6.77678809e-02 -5.53540466e-03\n",
            "    -8.78350288e-02 -8.08352381e-02 -9.39464048e-02  9.56061557e-02\n",
            "     4.57971264e-03  5.14363572e-02  1.09054007e-01  7.43318126e-02\n",
            "     6.45089597e-02 -1.34926230e-01 -3.07378490e-02 -4.97964351e-03\n",
            "     1.09746367e-01 -2.93062627e-02  5.94139174e-02  4.50965166e-02\n",
            "     1.19153917e-01  9.90512893e-02 -4.51726504e-02 -2.46839877e-02]]\n",
            "\n",
            "  [[ 2.52917614e-02  3.09536085e-02 -1.33212358e-01 -6.99107945e-02\n",
            "     1.03558470e-02 -1.82774112e-01 -2.01448381e-01 -1.05672345e-01\n",
            "     4.32024859e-02 -1.39146391e-02 -6.99561536e-02  4.41469401e-02\n",
            "    -2.90914867e-02 -1.28641084e-01 -7.43450224e-03  5.29765785e-02\n",
            "    -9.62679833e-02  7.24134743e-02 -3.90524790e-02  7.72090331e-02\n",
            "     1.03690326e-02 -6.18457347e-02  1.37725577e-01 -9.17155370e-02\n",
            "     1.50630012e-01  9.00715962e-02  5.58081530e-02  7.03997761e-02\n",
            "     2.07023099e-02  5.82333356e-02  2.05504266e-03  6.09113649e-02\n",
            "    -1.18401960e-01 -2.20478401e-02  4.91799824e-02  9.25236568e-02\n",
            "    -1.54740170e-01  5.19700758e-02 -6.92027435e-02 -9.08641666e-02\n",
            "    -6.64388314e-02 -9.24244970e-02  2.78608706e-02 -1.77383959e-01\n",
            "    -7.10055381e-02 -7.22982585e-02 -9.50111896e-02  5.78608438e-02\n",
            "    -1.19409509e-01 -5.55130728e-02  7.12273046e-02  4.60236296e-02\n",
            "     3.37182283e-02 -1.58759102e-01  8.57683495e-02  4.44045514e-02\n",
            "    -1.26567855e-01  9.91468877e-02 -5.95096834e-02 -1.30536752e-02\n",
            "    -6.67991340e-02 -1.72599386e-02 -1.32882342e-01 -7.51023963e-02]]]\n",
            "\n",
            "\n",
            " [[[-7.33087584e-02 -5.13729779e-03 -3.22727300e-02 -1.05389364e-01\n",
            "    -1.75248049e-02 -1.54628888e-01 -1.19521163e-01  4.47606891e-02\n",
            "    -1.79756824e-02 -1.38614386e-01  1.59426183e-02 -5.16451104e-03\n",
            "    -1.40374061e-02 -3.76142599e-02 -8.80657732e-02 -1.42417178e-02\n",
            "     1.15632586e-01 -1.39982207e-02 -1.70570835e-02 -7.28121120e-03\n",
            "    -1.70344502e-01 -1.74510367e-02 -7.45296106e-02  3.99128683e-02\n",
            "    -4.64275386e-03  6.47186190e-02  3.16635426e-03 -2.43057907e-01\n",
            "     5.82206808e-02 -2.76398268e-02 -9.87716839e-02 -2.12060273e-01\n",
            "     6.20036051e-02  1.14428580e-01  9.89542622e-03  5.66179957e-03\n",
            "    -8.77496153e-02  1.03036754e-01  2.93552801e-02  2.41110027e-02\n",
            "     3.26139033e-02  6.22717626e-02  8.09505954e-03  1.44775957e-01\n",
            "     2.34202407e-02  3.41570228e-02 -2.69942116e-02  3.88588160e-02\n",
            "    -1.58899143e-01 -1.23415701e-02 -1.54494375e-01 -9.73756164e-02\n",
            "     1.44400513e-02  7.07584321e-02 -7.62781780e-03  5.08539286e-03\n",
            "    -2.99631171e-02  7.56269991e-02 -8.75180364e-02  7.11401924e-02\n",
            "     5.80440089e-02  1.27312606e-02  2.27996372e-02 -1.44220814e-01]]\n",
            "\n",
            "  [[ 6.57726377e-02 -3.06849722e-02 -1.19226482e-02  1.17350794e-01\n",
            "     5.56173213e-02 -1.33658320e-01 -2.81065822e-01  4.80453037e-02\n",
            "    -1.35441795e-01  1.03448391e-01 -8.51614624e-02 -1.87460616e-01\n",
            "    -6.35620281e-02  1.10046364e-01 -7.76451007e-02 -2.05564243e-03\n",
            "     2.08405275e-02  1.19381454e-02  1.41900973e-02 -1.11388668e-01\n",
            "    -6.33548871e-02 -1.74947575e-01  1.19736776e-01 -4.73118685e-02\n",
            "    -1.08407132e-01 -2.13877931e-02 -3.42818685e-02 -1.41305745e-01\n",
            "    -1.40062928e-01  2.23722570e-02  1.75931714e-02 -2.41593093e-01\n",
            "    -7.37202689e-02 -4.07943204e-02  6.02424517e-02  7.31490031e-02\n",
            "     7.95704424e-02 -2.75621824e-02 -1.20604155e-03 -1.07328720e-01\n",
            "     3.78943719e-02  4.89086770e-02  4.75395098e-02 -1.25661604e-02\n",
            "     8.62845127e-03  1.35688186e-01 -8.09107497e-02 -1.19375303e-01\n",
            "     8.41998160e-02  7.26971626e-02  1.92401018e-02 -1.75827652e-01\n",
            "    -1.39190376e-01  6.73833787e-02  1.50949880e-02  9.23117064e-03\n",
            "     9.97095257e-02  8.55991542e-02  9.18641165e-02  6.34589791e-02\n",
            "     3.16516645e-02  1.11280177e-02  1.16786836e-02 -1.74534693e-01]]\n",
            "\n",
            "  [[-3.13950628e-02  3.68832797e-02  3.21155437e-03 -2.35416666e-02\n",
            "    -7.96543732e-02 -2.62841970e-01 -3.39744598e-01  3.89277302e-02\n",
            "     1.46778435e-01 -4.55933809e-03  4.57911044e-02 -8.29720050e-02\n",
            "    -1.58991531e-01 -1.50963804e-02  1.98087007e-01 -6.71289722e-03\n",
            "    -6.87208250e-02 -3.45474258e-02  2.63118744e-02 -1.26367211e-01\n",
            "     7.39939511e-02  1.08297519e-01 -4.27875668e-02 -7.81545639e-02\n",
            "     8.16332623e-02 -3.69335786e-02  7.84014584e-04  3.15263011e-02\n",
            "     5.07324450e-02 -5.80353625e-02 -3.88233410e-03  1.61411632e-02\n",
            "    -9.19736102e-02  6.05327310e-03 -1.48862511e-01 -9.50630638e-04\n",
            "    -3.98213975e-02 -1.10861786e-01 -4.50902022e-02  7.21141174e-02\n",
            "     2.67645735e-02 -3.79904662e-03 -1.30595982e-01 -6.13831989e-02\n",
            "    -6.50928915e-02  1.45302370e-01 -5.75953014e-02 -7.18100443e-02\n",
            "     6.07710034e-02 -1.14625748e-02 -2.57568769e-02  9.95978061e-03\n",
            "    -5.34031242e-02  4.30179611e-02 -1.47552872e-02 -4.38932478e-02\n",
            "    -5.34970611e-02 -1.37555256e-01  9.35196653e-02 -1.39726073e-01\n",
            "    -9.35868770e-02 -1.51403368e-01  6.86475784e-02 -1.37133837e-01]]]]\n"
          ],
          "name": "stdout"
        }
      ]
    },
    {
      "cell_type": "code",
      "metadata": {
        "colab": {
          "base_uri": "https://localhost:8080/"
        },
        "id": "UAnTUMPl_liW",
        "outputId": "fd3301c3-3d7f-4a8f-b0ef-7792bc16af72"
      },
      "source": [
        "dense = model_weights.get('dense')\n",
        "dense_items = list(dense.items())\n",
        "print(dense_items)\n",
        "\n",
        "Dense = dense.get('dense')\n",
        "Dense_items = list(Dense.items())\n",
        "print(Dense_items)\n",
        "\n",
        "bias_dense = np.array(Dense.get('bias:0'))\n",
        "print(bias_dense)\n",
        "\n",
        "kernel_dense = np.array(Dense.get('kernel:0'))\n",
        "print(kernel_dense)"
      ],
      "execution_count": 25,
      "outputs": [
        {
          "output_type": "stream",
          "text": [
            "[('dense', <HDF5 group \"/model_weights/dense/dense\" (2 members)>)]\n",
            "[('bias:0', <HDF5 dataset \"bias:0\": shape (1024,), type \"<f4\">), ('kernel:0', <HDF5 dataset \"kernel:0\": shape (10816, 1024), type \"<f4\">)]\n",
            "[ 0.00327816 -0.00599689 -0.00881026 ... -0.00600461 -0.0073046\n",
            "  0.02039265]\n",
            "[[ 0.00412775  0.01856545 -0.02094681 ...  0.01095871 -0.01403567\n",
            "   0.08044033]\n",
            " [-0.00381395 -0.01045534 -0.00267088 ...  0.00780747 -0.03007658\n",
            "   0.06136779]\n",
            " [-0.00344451 -0.00850277 -0.00449993 ...  0.01407677 -0.03775979\n",
            "   0.01840823]\n",
            " ...\n",
            " [-0.00122815  0.01327485  0.01202555 ...  0.01736874  0.00453045\n",
            "   0.0017971 ]\n",
            " [ 0.00841594 -0.00872981  0.02197489 ... -0.01781288 -0.02515421\n",
            "  -0.01535787]\n",
            " [ 0.04487487  0.02148779 -0.02051701 ... -0.00243073  0.0146882\n",
            "   0.025553  ]]\n"
          ],
          "name": "stdout"
        }
      ]
    },
    {
      "cell_type": "code",
      "metadata": {
        "colab": {
          "base_uri": "https://localhost:8080/"
        },
        "id": "RHVsf22-AU5W",
        "outputId": "758fba33-8048-45cc-e910-1d6b58a0c775"
      },
      "source": [
        "dense_1 = model_weights.get('dense_1')\n",
        "dense_1_items = list(dense_1.items())\n",
        "print(dense_1_items)\n",
        "\n",
        "Dense_1 = dense_1.get('dense_1')\n",
        "Dense_1_items = list(Dense_1.items())\n",
        "print(Dense_1_items)\n",
        "\n",
        "bias_dense_1 = np.array(Dense_1.get('bias:0'))\n",
        "print(bias_dense_1)\n",
        "\n",
        "kernel_dense_1 = np.array(Dense_1.get('kernel:0'))\n",
        "print(kernel_dense_1)"
      ],
      "execution_count": 26,
      "outputs": [
        {
          "output_type": "stream",
          "text": [
            "[('dense_1', <HDF5 group \"/model_weights/dense_1/dense_1\" (2 members)>)]\n",
            "[('bias:0', <HDF5 dataset \"bias:0\": shape (10,), type \"<f4\">), ('kernel:0', <HDF5 dataset \"kernel:0\": shape (1024, 10), type \"<f4\">)]\n",
            "[ 0.02498602 -0.02504676  0.02599131  0.00490885 -0.0278858  -0.01686559\n",
            " -0.00249491  0.02386236 -0.007708   -0.01269974]\n",
            "[[-0.07972144 -0.10460409 -0.08362588 ...  0.04326078  0.04854307\n",
            "   0.09100045]\n",
            " [-0.04001161  0.03760821  0.02455545 ... -0.00436404 -0.07282748\n",
            "   0.06428409]\n",
            " [ 0.01611708 -0.00679435  0.0214432  ...  0.04410805 -0.03083324\n",
            "   0.04418109]\n",
            " ...\n",
            " [ 0.05127913  0.04410839  0.05424841 ...  0.05020692  0.03486197\n",
            "  -0.04464638]\n",
            " [-0.07385655 -0.04113129 -0.07565083 ...  0.02040754  0.09088379\n",
            "   0.00673239]\n",
            " [ 0.02537308 -0.01556931  0.03646674 ... -0.13651483  0.0115251\n",
            "  -0.2020048 ]]\n"
          ],
          "name": "stdout"
        }
      ]
    },
    {
      "cell_type": "code",
      "metadata": {
        "id": "WVpwHgEdDPpn"
      },
      "source": [
        "W = kernel_conv2d\n",
        "X_tr = x_train[5].reshape(784,1)\n",
        "b1 = bias_conv2d\n",
        "\n",
        "\n",
        "def conv2D(W, X, b):\n",
        "    z = np.dot(W, X) +b\n",
        "    return z\n",
        "\n",
        "\n"
      ],
      "execution_count": 53,
      "outputs": []
    },
    {
      "cell_type": "code",
      "metadata": {
        "id": "1GDse16zTmxI"
      },
      "source": [
        "def maxpool(Z, width, stride):\n",
        "    img_length = int(np.sqrt(len(Z)))                   #=26 in our case\n",
        "    img = np.reshape(Z, [img_length, img_length])     #=13 in our case\n",
        "    pooled_img_length = int(img_length/stride)\n",
        "\n",
        "    Pooled_img = np.empty([pooled_img_length, pooled_img_length])\n",
        "    for i in range(0, pooled_img_length):\n",
        "        for j in range(0, pooled_img_length):\n",
        "            pixels = np.array([img[i*width, j*width], img[i*width, (j*width)+1], img[(i*width)+1, j*width], img[(i*width)+1, (j*width)+1]])\n",
        "            Pooled_img[i, j] = np.max(pixels)\n",
        "\n",
        "    return Pooled_img\n"
      ],
      "execution_count": 58,
      "outputs": []
    },
    {
      "cell_type": "code",
      "metadata": {
        "id": "phUtBjYjTqvj"
      },
      "source": [
        "Kernels = {}\n",
        "Wts_row = {}\n",
        "WEIGHTS_CONV2D = {}\n",
        "Z_CONV2D = {}\n",
        "Z_MAXPOOL = {}\n",
        "\n",
        "#print(W)\n",
        "W1 = W[0, 0, 0, :]\n",
        "W2 = W[0, 1, 0, :]\n",
        "W3 = W[0, 2, 0, :]\n",
        "W4 = W[1, 0, 0, :]\n",
        "W5 = W[1, 1, 0, :]\n",
        "W6 = W[1, 2, 0, :]\n",
        "W7 = W[2, 0, 0, :]\n",
        "W8 = W[2, 1, 0, :]\n",
        "W9 = W[2, 2, 0, :]\n",
        "\n",
        "for i in range(0, 64):\n",
        "    Kernels['K'+str(i)] = [[W1[i], W2[i], W3[i]],\n",
        "                           [W4[i], W5[i], W6[i]],\n",
        "                           [W7[i], W8[i], W9[i]]]\n",
        "\n",
        "# print(Kernels['K'+str(42)])\n",
        "\n",
        "for i in range(0, 64):\n",
        "    V = Kernels['K' + str(i)]\n",
        "    Zeros = np.zeros(25)\n",
        "    Wts_row['Wts' + str(i)] = np.concatenate([V[0], Zeros, V[1], Zeros, V[2]])\n",
        "\n",
        "Wts_row_length = np.size(Wts_row['Wts' + str(56)])      #All 'weights' rows are of same length\n",
        "# print('Length of weights row: ', Wts_row_length)\n",
        "\n",
        "#Generates indices where kernel has to be applied to get feature maps\n",
        "Nos = np.arange(784)\n",
        "Nos = np.reshape(Nos, [28, 28])\n",
        "Nos = Nos[:, :-2]\n",
        "Nos = np.ndarray.flatten(Nos)\n",
        "# print(Nos)\n",
        "\n",
        "for j in range(0, 64):\n",
        "    WEIGHTS_CONV2D['w_conv' + str(j)] = np.concatenate([Wts_row['Wts' + str(j)], np.zeros(784 - Wts_row_length)])\n",
        "    for i in range(1, 676):\n",
        "        INDEX = Nos[i]\n",
        "        ROW = np.concatenate([np.zeros(INDEX), Wts_row['Wts' + str(j)], np.zeros(784 - Wts_row_length - INDEX)])\n",
        "        WEIGHTS_CONV2D['w_conv' + str(j)] = np.vstack([WEIGHTS_CONV2D['w_conv' + str(j)], ROW])\n",
        "\n",
        "# print(np.shape(WEIGHTS_CONV2D))\n",
        "# plt.matshow(WEIGHTS/np.max(WEIGHTS))\n",
        "# plt.show()\n",
        "\n",
        "for i in range(0, 64):\n",
        "    Wi = WEIGHTS_CONV2D['w_conv' + str(i)]\n",
        "    Z_CONV2D['z_conv2d'+str(i)] = conv2D(Wi, X_tr, b1[i]) \n",
        "\n",
        "for i in range(0, 64):\n",
        "    Z_MAXPOOL['z_maxpool'+str(i)] = maxpool(Z_CONV2D['z_conv2d'+str(i)], 2, 2)"
      ],
      "execution_count": 59,
      "outputs": []
    },
    {
      "cell_type": "code",
      "metadata": {
        "colab": {
          "base_uri": "https://localhost:8080/",
          "height": 265
        },
        "id": "VjD2uhXhET9u",
        "outputId": "807b02b4-b895-4f0d-bec4-7648174ce48f"
      },
      "source": [
        "FEATURE_MAP = np.reshape(Z_CONV2D['z_conv2d'+str(33)], [26, 26])\n",
        "plt.imshow(FEATURE_MAP)\n",
        "plt.show()"
      ],
      "execution_count": 63,
      "outputs": [
        {
          "output_type": "display_data",
          "data": {
            "image/png": "[encoded data removed]",
            "text/plain": [
              "<Figure size 432x288 with 1 Axes>"
            ]
          },
          "metadata": {
            "tags": [],
            "needs_background": "light"
          }
        }
      ]
    },
    {
      "cell_type": "code",
      "metadata": {
        "colab": {
          "base_uri": "https://localhost:8080/",
          "height": 265
        },
        "id": "EWYqTfO8Euu9",
        "outputId": "550f2986-31d6-4dca-a2b3-d953dd717f42"
      },
      "source": [
        "FEATURE_MAP_MAX_POOLING = np.reshape(Z_MAXPOOL['z_maxpool'+str(33)], [13, 13])\n",
        "plt.imshow(FEATURE_MAP_MAX_POOLING)\n",
        "plt.show()"
      ],
      "execution_count": 57,
      "outputs": [
        {
          "output_type": "display_data",
          "data": {
            "image/png": "[encoded data removed]",
            "text/plain": [
              "<Figure size 432x288 with 1 Axes>"
            ]
          },
          "metadata": {
            "tags": [],
            "needs_background": "light"
          }
        }
      ]
    },
    {
      "cell_type": "code",
      "metadata": {
        "id": "mYCqr7SuS7EO"
      },
      "source": [
        "Weight2 = kernel_dense\n",
        "bias2 = bias_dense\n",
        "Weight3 = kernel_dense_1\n",
        "bias3 = bias_dense_1"
      ],
      "execution_count": 64,
      "outputs": []
    },
    {
      "cell_type": "code",
      "metadata": {
        "id": "IM3Z_jpYd-YK"
      },
      "source": [
        "def relu_function(z):\n",
        "    h = np.maximum(z, 0)\n",
        "    return h\n",
        "\n",
        "def dense(H, W, b):\n",
        "    z = np.dot(np.transpose(W), H) + b\n",
        "    return z\n",
        "\n",
        "def softmax(z):\n",
        "  return np.exp(z - max(z))/np.sum(np.exp(z - max(z)), axis = 0, keepdims = True)"
      ],
      "execution_count": 68,
      "outputs": []
    },
    {
      "cell_type": "code",
      "metadata": {
        "id": "bq3KkOaXeBUs"
      },
      "source": [
        "Z_RELU1={}\n",
        "\n",
        "for i in range(0, 64):\n",
        "    Z_RELU1['z_relu_one'+str(i)] = relu_function(Z_MAXPOOL['z_maxpool'+str(i)])\n",
        "\n",
        "# print(np.shape(Z_RELU1['z_relu_one'+str(0)]))\n",
        "\n",
        "Z_FLATTENED = np.ndarray.flatten(Z_RELU1['z_relu_one'+str(0)])\n",
        "for i in range(1, 64):\n",
        "    Z_FLATTENED = np.concatenate([Z_FLATTENED, np.ndarray.flatten( Z_RELU1['z_relu_one'+str(i)])])\n",
        "\n",
        "# print(np.shape(Z_FLATTENED))\n",
        "Z_DENSE1 = dense(Z_FLATTENED, Weight2, bias2)\n",
        "Z_RELU2 = relu_function(Z_DENSE1)\n",
        "Z_DENSE2 = dense(Z_RELU2, Weight3, bias3)\n",
        "SOFTMAX = softmax(Z_DENSE2)"
      ],
      "execution_count": 69,
      "outputs": []
    },
    {
      "cell_type": "code",
      "metadata": {
        "colab": {
          "base_uri": "https://localhost:8080/"
        },
        "id": "bl0UcvapeJJD",
        "outputId": "e4416b3d-e0cd-49cd-eb36-a94814afc6c5"
      },
      "source": [
        "print(SOFTMAX)"
      ],
      "execution_count": 70,
      "outputs": [
        {
          "output_type": "stream",
          "text": [
            "[0. 0. 0. 0. 0. 0. 0. 0. 1. 0.]\n"
          ],
          "name": "stdout"
        }
      ]
    },
    {
      "cell_type": "code",
      "metadata": {
        "id": "VhUidiQzfFFI"
      },
      "source": [
        ""
      ],
      "execution_count": null,
      "outputs": []
    }
  ]
}